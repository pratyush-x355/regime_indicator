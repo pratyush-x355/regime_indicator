{
 "cells": [
  {
   "cell_type": "code",
   "execution_count": 39,
   "metadata": {},
   "outputs": [],
   "source": [
    "import pandas as pd\n",
    "import numpy as np\n",
    "import datetime as dt\n",
    "import pandas_datareader.data as web\n",
    "from arch import arch_model\n",
    "import math\n",
    "%matplotlib inline\n",
    "import matplotlib.pyplot as plt\n",
    "import seaborn as sns\n",
    "import sys\n",
    "from scipy.stats import norm, skewnorm, kurtosis, skew, moment"
   ]
  },
  {
   "cell_type": "code",
   "execution_count": 2,
   "metadata": {},
   "outputs": [],
   "source": [
    "def required_formatting(df):\n",
    "    df[\"Date\"] = pd.to_datetime(df[\"Date\"])\n",
    "    df.set_index(\"Date\", inplace = True)\n",
    "    df[\"returns\"] = df[\"Adj Close\"].pct_change().fillna(0)\n",
    "    df[\"log_returns\"] = np.log(1+df[\"returns\"])*100\n",
    "\n",
    "# start = dt.datetime(2013, 1, 1)\n",
    "# end = dt.datetime(2023, 1, 1)\n",
    "# nifty50 = web.DataReader('^NSEI', 'yahoo', start=start, end=end)\n",
    "nifty50 = pd.read_csv(\"NSEI.csv\")\n",
    "required_formatting(nifty50)\n",
    "required_columns = [\"Adj Close\",\"log_returns\"]\n",
    "df = nifty50[required_columns]"
   ]
  },
  {
   "cell_type": "code",
   "execution_count": 3,
   "metadata": {},
   "outputs": [],
   "source": [
    "end_date = df.index[-1]\n",
    "start_date = end_date - pd.DateOffset(years=5)\n",
    "returns = df.loc[start_date:end_date]['log_returns'].copy()"
   ]
  },
  {
   "cell_type": "code",
   "execution_count": 4,
   "metadata": {},
   "outputs": [],
   "source": [
    "# Fit GARCH(1,1) model (you can adjust the order as needed)\n",
    "garch_model = arch_model(returns, vol='Garch', p=1, q=1).fit(disp=\"off\")\n",
    "gjr_garch_model = arch_model(returns, vol='Garch', p=1, o=1, q=1).fit(disp=\"off\")\n",
    "garch_t = arch_model(returns, vol='Garch', p=1, q=1, dist=\"t\").fit(disp=\"off\")\n",
    "garch_skewt = arch_model(returns, vol='Garch', p=1, q=1, dist=\"skewt\").fit(disp=\"off\")"
   ]
  },
  {
   "cell_type": "code",
   "execution_count": 5,
   "metadata": {},
   "outputs": [
    {
     "name": "stdout",
     "output_type": "stream",
     "text": [
      "normal      -1693.307114\n",
      "t           -1665.851980\n",
      "skewt       -1653.835792\n",
      "gjr_garch   -1666.766956\n",
      "dtype: float64\n"
     ]
    }
   ],
   "source": [
    "from collections import OrderedDict\n",
    "lls = pd.Series(\n",
    "    OrderedDict(\n",
    "        (\n",
    "            (\"normal\", garch_model.loglikelihood),\n",
    "            (\"t\", garch_t.loglikelihood),\n",
    "            (\"skewt\", garch_skewt.loglikelihood),\n",
    "            (\"gjr_garch\", gjr_garch_model.loglikelihood)\n",
    "        )\n",
    "    )\n",
    ")\n",
    "print(lls)"
   ]
  },
  {
   "cell_type": "code",
   "execution_count": 6,
   "metadata": {},
   "outputs": [
    {
     "data": {
      "text/html": [
       "<div>\n",
       "<style scoped>\n",
       "    .dataframe tbody tr th:only-of-type {\n",
       "        vertical-align: middle;\n",
       "    }\n",
       "\n",
       "    .dataframe tbody tr th {\n",
       "        vertical-align: top;\n",
       "    }\n",
       "\n",
       "    .dataframe thead th {\n",
       "        text-align: right;\n",
       "    }\n",
       "</style>\n",
       "<table border=\"1\" class=\"dataframe\">\n",
       "  <thead>\n",
       "    <tr style=\"text-align: right;\">\n",
       "      <th></th>\n",
       "      <th>normal</th>\n",
       "      <th>t</th>\n",
       "      <th>skewt</th>\n",
       "      <th>gjr_garch</th>\n",
       "    </tr>\n",
       "  </thead>\n",
       "  <tbody>\n",
       "    <tr>\n",
       "      <th>alpha[1]</th>\n",
       "      <td>0.111919</td>\n",
       "      <td>0.090650</td>\n",
       "      <td>0.095943</td>\n",
       "      <td>5.891514e-15</td>\n",
       "    </tr>\n",
       "    <tr>\n",
       "      <th>beta[1]</th>\n",
       "      <td>0.873568</td>\n",
       "      <td>0.884801</td>\n",
       "      <td>0.879206</td>\n",
       "      <td>8.884799e-01</td>\n",
       "    </tr>\n",
       "    <tr>\n",
       "      <th>eta</th>\n",
       "      <td>NaN</td>\n",
       "      <td>NaN</td>\n",
       "      <td>7.610648</td>\n",
       "      <td>NaN</td>\n",
       "    </tr>\n",
       "    <tr>\n",
       "      <th>gamma[1]</th>\n",
       "      <td>NaN</td>\n",
       "      <td>NaN</td>\n",
       "      <td>NaN</td>\n",
       "      <td>1.643724e-01</td>\n",
       "    </tr>\n",
       "    <tr>\n",
       "      <th>lambda</th>\n",
       "      <td>NaN</td>\n",
       "      <td>NaN</td>\n",
       "      <td>-0.214246</td>\n",
       "      <td>NaN</td>\n",
       "    </tr>\n",
       "  </tbody>\n",
       "</table>\n",
       "</div>"
      ],
      "text/plain": [
       "            normal         t     skewt     gjr_garch\n",
       "alpha[1]  0.111919  0.090650  0.095943  5.891514e-15\n",
       "beta[1]   0.873568  0.884801  0.879206  8.884799e-01\n",
       "eta            NaN       NaN  7.610648           NaN\n",
       "gamma[1]       NaN       NaN       NaN  1.643724e-01\n",
       "lambda         NaN       NaN -0.214246           NaN"
      ]
     },
     "execution_count": 6,
     "metadata": {},
     "output_type": "execute_result"
    }
   ],
   "source": [
    "from collections import OrderedDict\n",
    "params = pd.DataFrame(\n",
    "    OrderedDict(\n",
    "        (\n",
    "            (\"normal\", garch_model.params),\n",
    "            (\"t\", garch_t.params),\n",
    "            (\"skewt\", garch_skewt.params),\n",
    "            (\"gjr_garch\", gjr_garch_model.params)\n",
    "        )\n",
    "    )\n",
    ")\n",
    "params.head()"
   ]
  },
  {
   "cell_type": "code",
   "execution_count": 7,
   "metadata": {},
   "outputs": [],
   "source": [
    "returns = df['log_returns'].copy()"
   ]
  },
  {
   "cell_type": "code",
   "execution_count": 14,
   "metadata": {},
   "outputs": [
    {
     "name": "stdout",
     "output_type": "stream",
     "text": [
      "2749\n"
     ]
    }
   ],
   "source": [
    "index = returns.index\n",
    "start_loc = 0\n",
    "first_end = index[0] + pd.DateOffset(years=5)\n",
    "end_loc = np.where(index >= first_end)[0].min()\n",
    "iterations = len(index) - end_loc + 1\n",
    "print(iterations)"
   ]
  },
  {
   "cell_type": "code",
   "execution_count": 24,
   "metadata": {},
   "outputs": [],
   "source": [
    "am = arch_model(returns, vol=\"Garch\", p=1, o=0, q=1, dist=\"skewt\")\n",
    "forecasts = {}\n",
    "for i in range(iterations):\n",
    "    res = am.fit(first_obs=i, last_obs=i + end_loc, disp=\"off\")\n",
    "    temp = res.forecast(horizon=5, reindex=False).variance\n",
    "    fcast = temp.iloc[0]\n",
    "    param_fcast = pd.concat([res.params[1:4], fcast])\n",
    "    forecasts[fcast.name] = param_fcast\n",
    "result_df = pd.DataFrame(forecasts).T\n",
    "result_df[\"5d_volaility\"] = result_df[\"h.1\"] + result_df[\"h.2\"] + result_df[\"h.3\"] + result_df[\"h.4\"] + result_df[\"h.5\"]"
   ]
  },
  {
   "cell_type": "code",
   "execution_count": 31,
   "metadata": {},
   "outputs": [
    {
     "data": {
      "text/html": [
       "<div>\n",
       "<style scoped>\n",
       "    .dataframe tbody tr th:only-of-type {\n",
       "        vertical-align: middle;\n",
       "    }\n",
       "\n",
       "    .dataframe tbody tr th {\n",
       "        vertical-align: top;\n",
       "    }\n",
       "\n",
       "    .dataframe thead th {\n",
       "        text-align: right;\n",
       "    }\n",
       "</style>\n",
       "<table border=\"1\" class=\"dataframe\">\n",
       "  <thead>\n",
       "    <tr style=\"text-align: right;\">\n",
       "      <th></th>\n",
       "      <th>omega</th>\n",
       "      <th>alpha[1]</th>\n",
       "      <th>beta[1]</th>\n",
       "      <th>h.1</th>\n",
       "      <th>h.2</th>\n",
       "      <th>h.3</th>\n",
       "      <th>h.4</th>\n",
       "      <th>h.5</th>\n",
       "      <th>5d_volaility</th>\n",
       "      <th>5d_vol</th>\n",
       "    </tr>\n",
       "  </thead>\n",
       "  <tbody>\n",
       "    <tr>\n",
       "      <th>2023-10-31</th>\n",
       "      <td>0.026440</td>\n",
       "      <td>0.095494</td>\n",
       "      <td>0.879293</td>\n",
       "      <td>0.696639</td>\n",
       "      <td>0.705515</td>\n",
       "      <td>0.714167</td>\n",
       "      <td>0.722601</td>\n",
       "      <td>0.730823</td>\n",
       "      <td>3.569745</td>\n",
       "      <td>0.713949</td>\n",
       "    </tr>\n",
       "    <tr>\n",
       "      <th>2023-11-01</th>\n",
       "      <td>0.026163</td>\n",
       "      <td>0.094394</td>\n",
       "      <td>0.880753</td>\n",
       "      <td>0.666307</td>\n",
       "      <td>0.675910</td>\n",
       "      <td>0.685275</td>\n",
       "      <td>0.694407</td>\n",
       "      <td>0.703313</td>\n",
       "      <td>3.425213</td>\n",
       "      <td>0.685043</td>\n",
       "    </tr>\n",
       "    <tr>\n",
       "      <th>2023-11-02</th>\n",
       "      <td>0.026202</td>\n",
       "      <td>0.094779</td>\n",
       "      <td>0.880311</td>\n",
       "      <td>0.658001</td>\n",
       "      <td>0.667813</td>\n",
       "      <td>0.677380</td>\n",
       "      <td>0.686709</td>\n",
       "      <td>0.695805</td>\n",
       "      <td>3.385707</td>\n",
       "      <td>0.677141</td>\n",
       "    </tr>\n",
       "    <tr>\n",
       "      <th>2023-11-03</th>\n",
       "      <td>0.026230</td>\n",
       "      <td>0.094328</td>\n",
       "      <td>0.880930</td>\n",
       "      <td>0.625096</td>\n",
       "      <td>0.635860</td>\n",
       "      <td>0.646358</td>\n",
       "      <td>0.656596</td>\n",
       "      <td>0.666580</td>\n",
       "      <td>3.230489</td>\n",
       "      <td>0.646098</td>\n",
       "    </tr>\n",
       "    <tr>\n",
       "      <th>2023-11-06</th>\n",
       "      <td>0.026308</td>\n",
       "      <td>0.094940</td>\n",
       "      <td>0.880236</td>\n",
       "      <td>0.648273</td>\n",
       "      <td>0.658488</td>\n",
       "      <td>0.668450</td>\n",
       "      <td>0.678165</td>\n",
       "      <td>0.687638</td>\n",
       "      <td>3.341015</td>\n",
       "      <td>0.668203</td>\n",
       "    </tr>\n",
       "  </tbody>\n",
       "</table>\n",
       "</div>"
      ],
      "text/plain": [
       "               omega  alpha[1]   beta[1]       h.1       h.2       h.3  \\\n",
       "2023-10-31  0.026440  0.095494  0.879293  0.696639  0.705515  0.714167   \n",
       "2023-11-01  0.026163  0.094394  0.880753  0.666307  0.675910  0.685275   \n",
       "2023-11-02  0.026202  0.094779  0.880311  0.658001  0.667813  0.677380   \n",
       "2023-11-03  0.026230  0.094328  0.880930  0.625096  0.635860  0.646358   \n",
       "2023-11-06  0.026308  0.094940  0.880236  0.648273  0.658488  0.668450   \n",
       "\n",
       "                 h.4       h.5  5d_volaility    5d_vol  \n",
       "2023-10-31  0.722601  0.730823      3.569745  0.713949  \n",
       "2023-11-01  0.694407  0.703313      3.425213  0.685043  \n",
       "2023-11-02  0.686709  0.695805      3.385707  0.677141  \n",
       "2023-11-03  0.656596  0.666580      3.230489  0.646098  \n",
       "2023-11-06  0.678165  0.687638      3.341015  0.668203  "
      ]
     },
     "execution_count": 31,
     "metadata": {},
     "output_type": "execute_result"
    }
   ],
   "source": [
    "result_df[\"5d_vol\"] = result_df[\"5d_volaility\"]/5\n",
    "result_df.tail()"
   ]
  },
  {
   "cell_type": "code",
   "execution_count": 35,
   "metadata": {},
   "outputs": [
    {
     "data": {
      "image/png": "[encoded data removed]",
      "text/plain": [
       "<Figure size 2000x600 with 1 Axes>"
      ]
     },
     "metadata": {},
     "output_type": "display_data"
    }
   ],
   "source": [
    "\n",
    "plt.figure(figsize=(20, 6))\n",
    "plt.plot(result_df[\"5d_vol\"])\n",
    "plt.plot(result_df[\"h.1\"])\n",
    "plt.legend\n",
    "plt.show()"
   ]
  },
  {
   "cell_type": "code",
   "execution_count": 25,
   "metadata": {},
   "outputs": [
    {
     "data": {
      "text/html": [
       "<div>\n",
       "<style scoped>\n",
       "    .dataframe tbody tr th:only-of-type {\n",
       "        vertical-align: middle;\n",
       "    }\n",
       "\n",
       "    .dataframe tbody tr th {\n",
       "        vertical-align: top;\n",
       "    }\n",
       "\n",
       "    .dataframe thead th {\n",
       "        text-align: right;\n",
       "    }\n",
       "</style>\n",
       "<table border=\"1\" class=\"dataframe\">\n",
       "  <thead>\n",
       "    <tr style=\"text-align: right;\">\n",
       "      <th></th>\n",
       "      <th>Adj Close</th>\n",
       "      <th>log_returns</th>\n",
       "    </tr>\n",
       "    <tr>\n",
       "      <th>Date</th>\n",
       "      <th></th>\n",
       "      <th></th>\n",
       "    </tr>\n",
       "  </thead>\n",
       "  <tbody>\n",
       "    <tr>\n",
       "      <th>2007-09-17</th>\n",
       "      <td>4494.649902</td>\n",
       "      <td>0.000000</td>\n",
       "    </tr>\n",
       "    <tr>\n",
       "      <th>2007-09-18</th>\n",
       "      <td>4546.200195</td>\n",
       "      <td>1.140398</td>\n",
       "    </tr>\n",
       "    <tr>\n",
       "      <th>2007-09-19</th>\n",
       "      <td>4732.350098</td>\n",
       "      <td>4.013017</td>\n",
       "    </tr>\n",
       "    <tr>\n",
       "      <th>2007-09-20</th>\n",
       "      <td>4747.549805</td>\n",
       "      <td>0.320673</td>\n",
       "    </tr>\n",
       "    <tr>\n",
       "      <th>2007-09-21</th>\n",
       "      <td>4837.549805</td>\n",
       "      <td>1.877970</td>\n",
       "    </tr>\n",
       "  </tbody>\n",
       "</table>\n",
       "</div>"
      ],
      "text/plain": [
       "              Adj Close  log_returns\n",
       "Date                                \n",
       "2007-09-17  4494.649902     0.000000\n",
       "2007-09-18  4546.200195     1.140398\n",
       "2007-09-19  4732.350098     4.013017\n",
       "2007-09-20  4747.549805     0.320673\n",
       "2007-09-21  4837.549805     1.877970"
      ]
     },
     "execution_count": 25,
     "metadata": {},
     "output_type": "execute_result"
    }
   ],
   "source": [
    "df.head()"
   ]
  },
  {
   "cell_type": "code",
   "execution_count": 38,
   "metadata": {},
   "outputs": [
    {
     "data": {
      "image/png": "[encoded data removed]",
      "text/plain": [
       "<Figure size 1000x600 with 1 Axes>"
      ]
     },
     "metadata": {},
     "output_type": "display_data"
    }
   ],
   "source": [
    "# Plot histogram\n",
    "plt.figure(figsize=(10, 6))\n",
    "plt.hist(df[\"log_returns\"], bins=100, density=True, alpha=0.75, color='b', edgecolor='black')\n",
    "plt.show()"
   ]
  },
  {
   "cell_type": "code",
   "execution_count": 40,
   "metadata": {},
   "outputs": [],
   "source": [
    "end_date = df.index[-1]\n",
    "start_date = end_date - pd.DateOffset(years = 2)\n",
    "returns = df.loc[start_date:end_date][\"log_returns\"]\n",
    "\n",
    "# Calculate the first four moments of the return series\n",
    "mean = np.mean(returns)\n",
    "variance = np.var(returns)\n",
    "skewness = skew(returns)\n",
    "kurt = kurtosis(returns)\n",
    "\n",
    "# Create a normal distribution object\n",
    "distribution = norm(loc=mean, scale=variance)\n",
    "\n",
    "# Define percentiles (e.g., from 1 to 99 with a step of 1)\n",
    "percentiles = np.array([0.03, 5, 32, 68, 95, 99.7])\n",
    "\n",
    "# Calculate the returns at each percentile using the percent-point function (ppf)\n",
    "returns_at_percentiles = distribution.ppf(percentiles / 100)\n",
    "\n",
    "# Divide the column into quantiles using custom bin edges\n",
    "df['Quantiles'] = pd.cut(df['Column'], bins=returns_at_percentiles, labels=False, include_lowest=True)"
   ]
  },
  {
   "cell_type": "code",
   "execution_count": 45,
   "metadata": {},
   "outputs": [
    {
     "name": "stdout",
     "output_type": "stream",
     "text": [
      "0.03th percentile return: -2.8687\n",
      "5.0th percentile return: -1.3666\n",
      "32.0th percentile return: -0.3770\n",
      "68.0th percentile return: 0.4093\n",
      "95.0th percentile return: 1.3989\n",
      "99.7th percentile return: 2.3261\n"
     ]
    }
   ],
   "source": [
    "\n",
    "\n",
    "\n"
   ]
  },
  {
   "cell_type": "code",
   "execution_count": null,
   "metadata": {},
   "outputs": [],
   "source": []
  }
 ],
 "metadata": {
  "kernelspec": {
   "display_name": "tradingproject",
   "language": "python",
   "name": "python3"
  },
  "language_info": {
   "codemirror_mode": {
    "name": "ipython",
    "version": 3
   },
   "file_extension": ".py",
   "mimetype": "text/x-python",
   "name": "python",
   "nbconvert_exporter": "python",
   "pygments_lexer": "ipython3",
   "version": "3.11.4"
  }
 },
 "nbformat": 4,
 "nbformat_minor": 2
}
